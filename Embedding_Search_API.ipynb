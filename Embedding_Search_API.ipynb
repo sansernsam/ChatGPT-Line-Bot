{
  "nbformat": 4,
  "nbformat_minor": 0,
  "metadata": {
    "colab": {
      "provenance": [],
      "include_colab_link": true
    },
    "kernelspec": {
      "name": "python3",
      "display_name": "Python 3"
    },
    "language_info": {
      "name": "python"
    }
  },
  "cells": [
    {
      "cell_type": "markdown",
      "metadata": {
        "id": "view-in-github",
        "colab_type": "text"
      },
      "source": [
        "<a href=\"https://colab.research.google.com/github/sansernsam/ChatGPT-Line-Bot/blob/main/Embedding_Search_API.ipynb\" target=\"_parent\"><img src=\"https://colab.research.google.com/assets/colab-badge.svg\" alt=\"Open In Colab\"/></a>"
      ]
    },
    {
      "cell_type": "markdown",
      "source": [
        "# Step 1 - Install Steamship\n",
        "\n",
        "Run the cell below to install the Steamship python library."
      ],
      "metadata": {
        "id": "Jy9tVG5B5ne9"
      }
    },
    {
      "cell_type": "code",
      "execution_count": 1,
      "metadata": {
        "id": "bI_iePNK1ZMq",
        "colab": {
          "base_uri": "https://localhost:8080/"
        },
        "outputId": "e3ad321a-10e4-45d1-c3aa-65487d5e7df9"
      },
      "outputs": [
        {
          "output_type": "stream",
          "name": "stdout",
          "text": [
            "Looking in indexes: https://pypi.org/simple, https://us-python.pkg.dev/colab-wheels/public/simple/\n",
            "Collecting steamship\n",
            "  Downloading steamship-2.16.6-py3-none-any.whl (132 kB)\n",
            "\u001b[2K     \u001b[90m━━━━━━━━━━━━━━━━━━━━━━━━━━━━━━━━━━━━━━━\u001b[0m \u001b[32m132.3/132.3 kB\u001b[0m \u001b[31m6.4 MB/s\u001b[0m eta \u001b[36m0:00:00\u001b[0m\n",
            "\u001b[?25hRequirement already satisfied: toml==0.10.2 in /usr/local/lib/python3.10/dist-packages (from steamship) (0.10.2)\n",
            "Requirement already satisfied: click==8.1.3 in /usr/local/lib/python3.10/dist-packages (from steamship) (8.1.3)\n",
            "Collecting tiktoken==0.2.0\n",
            "  Downloading tiktoken-0.2.0-cp310-cp310-manylinux_2_17_x86_64.manylinux2014_x86_64.whl (1.6 MB)\n",
            "\u001b[2K     \u001b[90m━━━━━━━━━━━━━━━━━━━━━━━━━━━━━━━━━━━━━━━━\u001b[0m \u001b[32m1.6/1.6 MB\u001b[0m \u001b[31m35.9 MB/s\u001b[0m eta \u001b[36m0:00:00\u001b[0m\n",
            "\u001b[?25hCollecting aiohttp==3.8.3\n",
            "  Downloading aiohttp-3.8.3-cp310-cp310-manylinux_2_17_x86_64.manylinux2014_x86_64.whl (1.0 MB)\n",
            "\u001b[2K     \u001b[90m━━━━━━━━━━━━━━━━━━━━━━━━━━━━━━━━━━━━━━━━\u001b[0m \u001b[32m1.0/1.0 MB\u001b[0m \u001b[31m31.5 MB/s\u001b[0m eta \u001b[36m0:00:00\u001b[0m\n",
            "\u001b[?25hCollecting semver==2.13.0\n",
            "  Downloading semver-2.13.0-py2.py3-none-any.whl (12 kB)\n",
            "Collecting requests==2.28.1\n",
            "  Downloading requests-2.28.1-py3-none-any.whl (62 kB)\n",
            "\u001b[2K     \u001b[90m━━━━━━━━━━━━━━━━━━━━━━━━━━━━━━━━━━━━━━━━\u001b[0m \u001b[32m62.8/62.8 kB\u001b[0m \u001b[31m2.7 MB/s\u001b[0m eta \u001b[36m0:00:00\u001b[0m\n",
            "\u001b[?25hCollecting pydantic==1.10.2\n",
            "  Downloading pydantic-1.10.2-cp310-cp310-manylinux_2_17_x86_64.manylinux2014_x86_64.whl (12.8 MB)\n",
            "\u001b[2K     \u001b[90m━━━━━━━━━━━━━━━━━━━━━━━━━━━━━━━━━━━━━━━━\u001b[0m \u001b[32m12.8/12.8 MB\u001b[0m \u001b[31m44.4 MB/s\u001b[0m eta \u001b[36m0:00:00\u001b[0m\n",
            "\u001b[?25hCollecting inflection==0.5.1\n",
            "  Downloading inflection-0.5.1-py2.py3-none-any.whl (9.5 kB)\n",
            "Collecting fluent-logger==0.10.0\n",
            "  Downloading fluent_logger-0.10.0-py2.py3-none-any.whl (12 kB)\n",
            "Collecting frozenlist>=1.1.1\n",
            "  Downloading frozenlist-1.3.3-cp310-cp310-manylinux_2_5_x86_64.manylinux1_x86_64.manylinux_2_17_x86_64.manylinux2014_x86_64.whl (149 kB)\n",
            "\u001b[2K     \u001b[90m━━━━━━━━━━━━━━━━━━━━━━━━━━━━━━━━━━━━━━━\u001b[0m \u001b[32m149.6/149.6 kB\u001b[0m \u001b[31m1.9 MB/s\u001b[0m eta \u001b[36m0:00:00\u001b[0m\n",
            "\u001b[?25hRequirement already satisfied: attrs>=17.3.0 in /usr/local/lib/python3.10/dist-packages (from aiohttp==3.8.3->steamship) (23.1.0)\n",
            "Requirement already satisfied: charset-normalizer<3.0,>=2.0 in /usr/local/lib/python3.10/dist-packages (from aiohttp==3.8.3->steamship) (2.0.12)\n",
            "Collecting aiosignal>=1.1.2\n",
            "  Downloading aiosignal-1.3.1-py3-none-any.whl (7.6 kB)\n",
            "Collecting async-timeout<5.0,>=4.0.0a3\n",
            "  Downloading async_timeout-4.0.2-py3-none-any.whl (5.8 kB)\n",
            "Collecting yarl<2.0,>=1.0\n",
            "  Downloading yarl-1.9.2-cp310-cp310-manylinux_2_17_x86_64.manylinux2014_x86_64.whl (268 kB)\n",
            "\u001b[2K     \u001b[90m━━━━━━━━━━━━━━━━━━━━━━━━━━━━━━━━━━━━━━\u001b[0m \u001b[32m268.8/268.8 kB\u001b[0m \u001b[31m12.0 MB/s\u001b[0m eta \u001b[36m0:00:00\u001b[0m\n",
            "\u001b[?25hCollecting multidict<7.0,>=4.5\n",
            "  Downloading multidict-6.0.4-cp310-cp310-manylinux_2_17_x86_64.manylinux2014_x86_64.whl (114 kB)\n",
            "\u001b[2K     \u001b[90m━━━━━━━━━━━━━━━━━━━━━━━━━━━━━━━━━━━━━━━\u001b[0m \u001b[32m114.5/114.5 kB\u001b[0m \u001b[31m6.0 MB/s\u001b[0m eta \u001b[36m0:00:00\u001b[0m\n",
            "\u001b[?25hRequirement already satisfied: msgpack>1.0 in /usr/local/lib/python3.10/dist-packages (from fluent-logger==0.10.0->steamship) (1.0.5)\n",
            "Requirement already satisfied: typing-extensions>=4.1.0 in /usr/local/lib/python3.10/dist-packages (from pydantic==1.10.2->steamship) (4.5.0)\n",
            "Requirement already satisfied: idna<4,>=2.5 in /usr/local/lib/python3.10/dist-packages (from requests==2.28.1->steamship) (3.4)\n",
            "Requirement already satisfied: urllib3<1.27,>=1.21.1 in /usr/local/lib/python3.10/dist-packages (from requests==2.28.1->steamship) (1.26.15)\n",
            "Requirement already satisfied: certifi>=2017.4.17 in /usr/local/lib/python3.10/dist-packages (from requests==2.28.1->steamship) (2022.12.7)\n",
            "Requirement already satisfied: regex>=2022.1.18 in /usr/local/lib/python3.10/dist-packages (from tiktoken==0.2.0->steamship) (2022.10.31)\n",
            "Collecting blobfile>=2\n",
            "  Downloading blobfile-2.0.2-py3-none-any.whl (74 kB)\n",
            "\u001b[2K     \u001b[90m━━━━━━━━━━━━━━━━━━━━━━━━━━━━━━━━━━━━━━━━\u001b[0m \u001b[32m74.5/74.5 kB\u001b[0m \u001b[31m2.4 MB/s\u001b[0m eta \u001b[36m0:00:00\u001b[0m\n",
            "\u001b[?25hCollecting pycryptodomex~=3.8\n",
            "  Downloading pycryptodomex-3.17-cp35-abi3-manylinux_2_17_x86_64.manylinux2014_x86_64.whl (2.1 MB)\n",
            "\u001b[2K     \u001b[90m━━━━━━━━━━━━━━━━━━━━━━━━━━━━━━━━━━━━━━━━\u001b[0m \u001b[32m2.1/2.1 MB\u001b[0m \u001b[31m44.5 MB/s\u001b[0m eta \u001b[36m0:00:00\u001b[0m\n",
            "\u001b[?25hRequirement already satisfied: lxml~=4.9 in /usr/local/lib/python3.10/dist-packages (from blobfile>=2->tiktoken==0.2.0->steamship) (4.9.2)\n",
            "Requirement already satisfied: filelock~=3.0 in /usr/local/lib/python3.10/dist-packages (from blobfile>=2->tiktoken==0.2.0->steamship) (3.12.0)\n",
            "Installing collected packages: semver, requests, pydantic, pycryptodomex, multidict, inflection, frozenlist, fluent-logger, async-timeout, yarl, blobfile, aiosignal, tiktoken, aiohttp, steamship\n",
            "  Attempting uninstall: requests\n",
            "    Found existing installation: requests 2.27.1\n",
            "    Uninstalling requests-2.27.1:\n",
            "      Successfully uninstalled requests-2.27.1\n",
            "  Attempting uninstall: pydantic\n",
            "    Found existing installation: pydantic 1.10.7\n",
            "    Uninstalling pydantic-1.10.7:\n",
            "      Successfully uninstalled pydantic-1.10.7\n",
            "Successfully installed aiohttp-3.8.3 aiosignal-1.3.1 async-timeout-4.0.2 blobfile-2.0.2 fluent-logger-0.10.0 frozenlist-1.3.3 inflection-0.5.1 multidict-6.0.4 pycryptodomex-3.17 pydantic-1.10.2 requests-2.28.1 semver-2.13.0 steamship-2.16.6 tiktoken-0.2.0 yarl-1.9.2\n"
          ]
        }
      ],
      "source": [
        "%pip install steamship --upgrade\n"
      ]
    },
    {
      "cell_type": "markdown",
      "source": [
        "# Step 3 - Set your Steamship API Key\n",
        "\n",
        "1. Visit https://steamship.com/account/api\n",
        "2. Run the cell below set your key\n"
      ],
      "metadata": {
        "id": "7gIW_OR95goq"
      }
    },
    {
      "cell_type": "code",
      "source": [
        "from getpass import getpass\n",
        "STEAMSHIP_API_KEY = getpass('6082689780:AAFaIl0KSoLjOhyabC7frKIjHHltpr93iOw')"
      ],
      "metadata": {
        "id": "kUkKurHB1s9z"
      },
      "execution_count": null,
      "outputs": []
    },
    {
      "cell_type": "markdown",
      "source": [
        "# Step 3 - Write your Steamship Package\n",
        "\n",
        "You will be glad you used this package wrapper -- even if you are just \n",
        "experimenting! It enables you to deploy your code to Steamship as a hosted,\n",
        "managed API with a single command!"
      ],
      "metadata": {
        "id": "Q_6W9K9s5Zud"
      }
    },
    {
      "cell_type": "code",
      "source": [
        "from steamship import check_environment, RuntimeEnvironments, Steamship, Tag\n",
        "from steamship.invocable import get, post, PackageService\n",
        "from typing import Union, List\n",
        "\n",
        "EMBEDDER = {\n",
        "  \"plugin_handle\": \"openai-embedder\",\n",
        "  \"fetch_if_exists\": True,\n",
        "  \"config\": {\n",
        "    \"model\": \"text-embedding-ada-002\",\n",
        "    \"dimensionality\": 1536,\n",
        "  }\n",
        "}\n",
        "\n",
        "class MyPackage(PackageService):\n",
        "  \"\"\"This Steamship package can store and process data with AI in the cloud.\n",
        "\n",
        "  When you run `ship deploy` from the command line, it will deploy to an\n",
        "  auto-managed, multi-user API.\n",
        "\n",
        "  Our hosting platform supports:\n",
        "  - GPT-3 and GPT-4\n",
        "  - Whisper\n",
        "  - DALL-E\n",
        "  - pix2pix\n",
        "  - Embedding Search\n",
        "  - LangChain\n",
        "  - Zapier\n",
        "  - Telegram bots\n",
        "  - .. and more\n",
        "\n",
        "  Let us know what you build in our Discord! We would love to help and promote\n",
        "  your amazing creations to the community.\n",
        "\n",
        "  https://steamship.com/discord\n",
        "  \"\"\"\n",
        "\n",
        "  def __init__(self, *args, **kwargs):\n",
        "    \"\"\"This runs every time your package is accessed when deployed.\"\"\"\n",
        "\n",
        "    super().__init__(*args, **kwargs)\n",
        "\n",
        "    # This will create a persistent vector index named \"my-embedding-index\"\n",
        "    # Using the \"openai-embedder\" plugin for embeddings.\n",
        "    self.index = self.client.use_plugin(\n",
        "      \"embedding-index\",\n",
        "      \"my-embedding-index\",\n",
        "      config={ \"embedder\": EMBEDDER },\n",
        "      fetch_if_exists=True,\n",
        "    )\n",
        "\n",
        "  # When you run `ship deploy`, this annotation tells Steamship\n",
        "  # to create an API endpoint called `/insert` request path.\n",
        "  # See README.md for more information about deployment.\n",
        "  @post(\"insert\")\n",
        "  def insert(self, items: Union[Tag, List[Tag]]) -> bool:\n",
        "    # The insert command can accept either a Tag or a list of Tags.\n",
        "    # Passing in JSON or a dict over HTTP is fine since we'll parse it below.\n",
        "    # Tag has shape {kind: str, name: str, text: str, value: dict}\n",
        "    # The `text` of the tag is what will be embedded.\n",
        "    if type(items) != list:\n",
        "      items = [items]\n",
        "\n",
        "    items = [Tag.parse_obj(item) for item in items]\n",
        "    self.index.insert(items)\n",
        "    return True\n",
        "\n",
        "  # When you run `ship deploy`, this annotation tells Steamship\n",
        "  # to create an API endpoint called `/query` request path.\n",
        "  # See README.md for more information about deployment.\n",
        "  @post(\"search\")\n",
        "  def search(self, query: str = \"\", k: int = 5) -> List[Tag]:\n",
        "    \"\"\"Return the `k` closest items in the embedding index.\"\"\"\n",
        "    search_results = self.index.search(query, k=k)\n",
        "    search_results.wait()\n",
        "    items = search_results.output.items\n",
        "    return [item.dict() for item in items]\n"
      ],
      "metadata": {
        "id": "JQVrSw2j4keQ"
      },
      "execution_count": null,
      "outputs": []
    },
    {
      "cell_type": "markdown",
      "source": [
        "# Step 4 - Test your Steamship Package\n",
        "\n"
      ],
      "metadata": {
        "id": "P0wLDvD05WG-"
      }
    },
    {
      "cell_type": "code",
      "source": [
        "NZ = {\n",
        "  \"text\":\n",
        "  \"New Zealand's South Island brims with majestic landscapes at every turn, from dramatic mountains to spectacular fjords. Here, you can admire the mountains of Fiordland National Park, a UNESCO World Heritage Site, from hiking trails or a boat on Milford Sound.\",\n",
        "  \"value\": {\n",
        "    \"place\": \"South Island, New Zealand\"\n",
        "  }\n",
        "}\n",
        "\n",
        "FR = {\n",
        "  \"text\":\n",
        "  \"The magnetic City of Light draws visitors from around the globe who come to see iconic attractions like the Eiffel Tower, the Louvre and the Arc de Triomphe. But what travelers really fall in love with are the city's quaint cafes, vibrant markets, trendy shopping districts and unmistakable je ne sais quoi\",\n",
        "  \"value\": {\n",
        "    \"place\": \"Paris, France\"\n",
        "  }\n",
        "}\n",
        "\n",
        "ITEMS = [NZ, FR]"
      ],
      "metadata": {
        "id": "FXSRg0EQbaXt"
      },
      "execution_count": null,
      "outputs": []
    },
    {
      "cell_type": "code",
      "source": [
        "# First we need to create a new steamship client.\n",
        "from steamship import Steamship\n",
        "from uuid import uuid4\n",
        "\n",
        "# Create a Steamship client in a fresh workspace (so data is isolated)\n",
        "client = Steamship(workspace=f\"temp-{uuid4()}\", api_key=STEAMSHIP_API_KEY)\n",
        "\n",
        "# Now we create an instance of your package above\n",
        "api = MyPackage(client)\n",
        "\n",
        "# Let's add some information.\n",
        "for item in ITEMS:\n",
        "  print(f\"- {item['value']['place']}\")\n",
        "  api.insert(item)"
      ],
      "metadata": {
        "colab": {
          "base_uri": "https://localhost:8080/"
        },
        "id": "L_5kDYuh5YWg",
        "outputId": "bc6f5da9-41ec-4c36-b998-6c42954f748f"
      },
      "execution_count": null,
      "outputs": [
        {
          "output_type": "stream",
          "name": "stdout",
          "text": [
            "- South Island, New Zealand\n",
            "- Paris, France\n"
          ]
        }
      ]
    },
    {
      "cell_type": "code",
      "source": [
        "# Now we'll try using the api we just built!\n",
        "\n",
        "results = api.search(query=\"Where should I go to see nice architecture?\")\n",
        "\n",
        "for result in results:\n",
        "  score = result[\"score\"]\n",
        "  tag = result[\"tag\"]\n",
        "  place = tag[\"value\"][\"place\"]\n",
        "  print(f\"{place} (score: {score})\")\n"
      ],
      "metadata": {
        "colab": {
          "base_uri": "https://localhost:8080/"
        },
        "id": "P_h_3YnhdEuJ",
        "outputId": "f8b6773e-a32a-4ce0-92af-2d2679289ff5"
      },
      "execution_count": null,
      "outputs": [
        {
          "output_type": "stream",
          "name": "stdout",
          "text": [
            "Paris, France (score: 0.7952640431113398)\n",
            "South Island, New Zealand (score: 0.7830265878854157)\n"
          ]
        }
      ]
    },
    {
      "cell_type": "markdown",
      "source": [
        "# Step 5 - Deploy your steamship package!\n",
        "\n",
        "Are you ready? This is going to be awesome."
      ],
      "metadata": {
        "id": "uNRoudvm6Fkl"
      }
    },
    {
      "cell_type": "code",
      "source": [
        "# First we'll write a requirements.txt file. \n",
        "# This needs to contain all of the python dependences.\n",
        "\n",
        "REQUIREMENTS = \"\"\"\n",
        "steamship\n",
        "\"\"\"\n",
        "\n",
        "with open('requirements.txt', 'w') as requirements:\n",
        "    requirements.write(REQUIREMENTS)"
      ],
      "metadata": {
        "id": "vvNkPtKy6BCq"
      },
      "execution_count": null,
      "outputs": []
    },
    {
      "cell_type": "code",
      "source": [
        "# Next we'll need to create a steamship.json file\n",
        "\n",
        "STEAMSHIP_JSON = \"\"\"{\n",
        "\t\"type\": \"package\",\n",
        "\t\"handle\": \"\",\n",
        "\t\"version\": \"\",\n",
        "\t\"description\": \"\",\n",
        "\t\"author\": \"\",\n",
        "\t\"entrypoint\": \"api.handler\",\n",
        "\t\"public\": true,\n",
        "\t\"build_config\": {\n",
        "\t\t\"ignore\": [\n",
        "\t\t\t\"tests\",\n",
        "      \"sample_data\",\n",
        "\t\t\t\"examples\"\n",
        "\t\t]\n",
        "\t},\n",
        "\t\"configTemplate\": {},\n",
        "\t\"steamshipRegistry\": {\n",
        "\t\t\"tagline\": \"My first Steamship Package!\",\n",
        "\t\t\"tagline2\": \"\",\n",
        "\t\t\"usefulFor\": null,\n",
        "\t\t\"videoURL\": null,\n",
        "\t\t\"githubURL\": null,\n",
        "\t\t\"demoURL\": null,\n",
        "\t\t\"jupyterURL\": null,\n",
        "\t\t\"authorGithub\": null,\n",
        "\t\t\"authorName\": null,\n",
        "\t\t\"authorEmail\": null,\n",
        "\t\t\"authorTwitter\": null,\n",
        "\t\t\"authorURL\": null,\n",
        "\t\t\"tags\": [\n",
        "\t\t\t\"Collab\"\n",
        "\t\t]\n",
        "\t}\n",
        "}\"\"\"\n",
        "\n",
        "with open('steamship.json', 'w') as steamship_json:\n",
        "    steamship_json.write(STEAMSHIP_JSON)"
      ],
      "metadata": {
        "id": "dsAjSqlR6zYD"
      },
      "execution_count": null,
      "outputs": []
    },
    {
      "cell_type": "code",
      "source": [
        "# Now we'll write our api.py to disk\n",
        "#\n",
        "# 🚢🚢🚢🚢🚢 IMPORTANT IMPORTANT IMPORTANT 🚢🚢🚢🚢🚢\n",
        "# 🚢🚢                                         🚢🚢    \n",
        "# 🚢🚢 This step needs you to do something in  🚢🚢\n",
        "# 🚢🚢 a cell above! Otherwise you won't be    🚢🚢\n",
        "# 🚢🚢 deploying the latest version of your    🚢🚢\n",
        "# 🚢🚢 api!                                    🚢🚢\n",
        "# 🚢🚢🚢🚢🚢🚢🚢🚢🚢🚢🚢🚢🚢🚢🚢🚢🚢🚢🚢🚢🚢🚢🚢🚢🚢🚢🚢🚢🚢\n",
        "#\n",
        "# Go to the cell above with your package definition, and then add the following\n",
        "# text to the top of it:\n",
        "#\n",
        "# %%writefile api.py\n",
        "#\n",
        "# Then use Shift-Enter (or the run button) to run the cell.\n",
        "# You should see a message informing you that you have written api.py to disk.\n",
        "#\n",
        "# Your package definition must be completely contained within this cell.\n",
        "#\n",
        "#\n",
        "#\n",
        "# OK.. now remember to remove the %%writefile api.py if you wish to keep\n",
        "# editing & running this pacakge in Jupyter.\n",
        "#\n",
        "# If you're a Jupyter wizard and can help us remove this odd step,\n",
        "# please let us know in https://steamship.com/discord! 🙏"
      ],
      "metadata": {
        "id": "OQ-XaxFZcBsR"
      },
      "execution_count": null,
      "outputs": []
    },
    {
      "cell_type": "code",
      "source": [
        "# Finall we'll deploy!\n",
        "\n",
        "!STEAMSHIP_API_KEY=$STEAMSHIP_API_KEY ship deploy"
      ],
      "metadata": {
        "colab": {
          "base_uri": "https://localhost:8080/"
        },
        "id": "Eil4m76U7tNh",
        "outputId": "56bb7379-986f-40eb-f1a4-0b3f323eaaf9"
      },
      "execution_count": null,
      "outputs": [
        {
          "output_type": "stream",
          "name": "stdout",
          "text": [
            "Steamship PYTHON cli version 2.14.2\n",
            "Creating / fetching package with handle [test-qa-api]... Done.\n",
            "Bundling content... Done. 📦\n",
            "Deploying version 1.0.0 of [test-qa-api]... 🚢\u001b[33m\n",
            "It looks like that version [1.0.0] has already been deployed. Would you like to change the version handle and try again?\u001b[0m [Y/n]: Y\n",
            "What should the new version be? Valid characters are a-z, 0-9, . and - [1.0.0-rc.1]: \n",
            "Deploying version 1.0.0-rc.1 of [test-qa-api]... 🚢🚢🚢🚢🚢🚢🚢🚢🚢🚢🚢🚢🚢🚢🚢🚢🚢🚢🚢\n",
            "Done. 🚢\n",
            "Deployment was successful. View and share your new package here:\n",
            "\n",
            "https://steamship.com/packages/test-qa-api\n",
            "\n"
          ]
        }
      ]
    },
    {
      "cell_type": "markdown",
      "source": [
        "# Step 6 - Test calling your API live\n",
        "\n",
        "Are you PUMPED!? Because if you got here... your Jupuyter code is now a live web page you can share, with its own API.\n",
        "\n",
        "Click the link in the cell above to take a look....\n",
        "\n",
        "And then see below to invoke that live API, remotely, from Python"
      ],
      "metadata": {
        "id": "H7qn6J3WezDy"
      }
    },
    {
      "cell_type": "code",
      "source": [
        "MY_PACKAGE_HANDLE = 'test-qa-api' # TODO: Replace with the handle you chose when deploying"
      ],
      "metadata": {
        "id": "X1fQq30077EF"
      },
      "execution_count": null,
      "outputs": []
    },
    {
      "cell_type": "code",
      "source": [
        "# Let's create a new package instance\n",
        "#\n",
        "# But unlike above.. now we'll using our instance in the cloud!\n",
        "\n",
        "# Let's create a new client, just to keep things separated\n",
        "client2 = Steamship(workspace=f\"temp-{uuid4()}\", api_key=STEAMSHIP_API_KEY)\n",
        "\n",
        "# Now we create an instance of your package in the cloud\n",
        "# Notice how we're passing it hte string handle you used when you deployed.\n",
        "cloud_api = client2.use(MY_PACKAGE_HANDLE)"
      ],
      "metadata": {
        "id": "LaYhNBb7fF64"
      },
      "execution_count": null,
      "outputs": []
    },
    {
      "cell_type": "code",
      "source": [
        "# Now we'll load data into it\n",
        "for item in ITEMS:\n",
        "  print(f\"- {item['value']['place']}\")\n",
        "  # Notice how we're no longer calling methods on the python object.\n",
        "  # Intead, we use instance.invoke(method, **kwargs)\n",
        "  cloud_api.invoke('insert', items=item)"
      ],
      "metadata": {
        "colab": {
          "base_uri": "https://localhost:8080/"
        },
        "id": "hGz4XmdYfScA",
        "outputId": "7663f4c6-bc59-4c03-ceb7-ecb82c511d05"
      },
      "execution_count": null,
      "outputs": [
        {
          "output_type": "stream",
          "name": "stdout",
          "text": [
            "- South Island, New Zealand\n",
            "- Paris, France\n"
          ]
        }
      ]
    },
    {
      "cell_type": "code",
      "source": [
        "# Now let's run the API in the cloud\n",
        "results = cloud_api.invoke(\"search\", query=\"Where should I go to see nice architecture?\")\n",
        "\n",
        "for result in results:\n",
        "  score = result[\"score\"]\n",
        "  tag = result[\"tag\"]\n",
        "  place = tag[\"value\"][\"place\"]\n",
        "  print(f\"{place} (score: {score})\")\n"
      ],
      "metadata": {
        "colab": {
          "base_uri": "https://localhost:8080/"
        },
        "id": "Hw0SG-Xsfjkz",
        "outputId": "7fcac309-219f-4295-d4f8-70facafb4cee"
      },
      "execution_count": null,
      "outputs": [
        {
          "output_type": "stream",
          "name": "stdout",
          "text": [
            "Paris, France (score: 0.79515)\n",
            "South Island, New Zealand (score: 0.782933)\n"
          ]
        }
      ]
    },
    {
      "cell_type": "code",
      "source": [],
      "metadata": {
        "id": "1H5giED5gq4C"
      },
      "execution_count": null,
      "outputs": []
    }
  ]
}